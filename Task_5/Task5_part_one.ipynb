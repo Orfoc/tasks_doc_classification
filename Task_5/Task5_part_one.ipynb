{
 "cells": [
  {
   "cell_type": "code",
   "execution_count": 223,
   "metadata": {},
   "outputs": [],
   "source": [
    "import requests\n",
    "import numpy as np\n",
    "import lxml.html\n",
    "import re\n",
    "import pandas as pd\n",
    "from lxml.etree import tostring\n",
    "link = \"http://notelections.online\"\n",
    "tec = \"Территориальная избирательная комиссия\"\n",
    "precinct = \"УИК\"\n",
    "left_table_id = \"Сумма\"\n",
    "pattern = \"\\d+\"\n",
    "get_count_from = np.array([13,14,15])\n",
    "digital_tec_check = \"Число избирателей\""
   ]
  },
  {
   "cell_type": "code",
   "execution_count": 224,
   "metadata": {},
   "outputs": [],
   "source": [
    "def get_table_by_first_row_text(text, page):\n",
    "    tree = lxml.html.fromstring(page.text)\n",
    "    tables = tree.xpath(\"//table\")\n",
    "    for table in tables:\n",
    "        rows = table.getchildren()\n",
    "        for first_row_cell in rows[0].xpath(\"td/nobr/a | td/nobr/b | td\"):\n",
    "            if (first_row_cell.text) and (text in first_row_cell.text):\n",
    "                return table\n",
    "           "
   ]
  },
  {
   "cell_type": "code",
   "execution_count": 225,
   "metadata": {},
   "outputs": [],
   "source": [
    "main_page = requests.get(\"http://notelections.online/region/region/st-petersburg?action=show&root=1&tvd=27820001217417&vrn=27820001217413&region=78&global=&sub_region=78&prver=0&pronetvd=null&vibid=27820001217417&type=222\")"
   ]
  },
  {
   "cell_type": "code",
   "execution_count": 226,
   "metadata": {},
   "outputs": [],
   "source": [
    "tec_links_table = get_table_by_first_row_text(tec, main_page)\n",
    "main_table = pd.DataFrame()\n",
    "for link_cell in tec_links_table.xpath(\"tr/td/nobr/a\")[:-1]:\n",
    "    tec_number = re.findall(pattern, link_cell.text)\n",
    "    tec_id = int(tec_number[0]) if tec_number else 999999\n",
    "    \n",
    "    tec_link = link + link_cell.attrib['href']\n",
    "    tec_page = requests.get(tec_link)\n",
    "    tec_table_tree = get_table_by_first_row_text(precinct, tec_page)\n",
    "    \n",
    "    tec_table = pd.read_html(tostring(tec_table_tree))[0].T\n",
    "    \n",
    "    tec_table[12] = tec_table[12].fillna(tec_id)\n",
    "    tec_table.index = tec_table[0].apply(lambda x: re.findall(pattern, x)[0])\n",
    "    tec_table.drop([0], axis = 1, inplace=True)\n",
    "    for column in get_count_from:\n",
    "        tec_table[column] = tec_table[column].apply(lambda x: int(x.split(\" \")[0]))\n",
    "    column_names = pd.read_html(tostring(get_table_by_first_row_text(left_table_id, tec_page)))[0].iloc[1:, 1].values\n",
    "    column_names[11] = \"Tec_number\"\n",
    "    tec_table.columns = column_names\n",
    "    main_table = main_table.append(tec_table)"
   ]
  },
  {
   "cell_type": "code",
   "execution_count": 228,
   "metadata": {
    "scrolled": true
   },
   "outputs": [],
   "source": []
  },
  {
   "cell_type": "code",
   "execution_count": 229,
   "metadata": {},
   "outputs": [],
   "source": [
    "tec_link = link + tec_links_table.xpath(\"tr/td/nobr/a\")[-1].attrib['href']\n",
    "tec_page = requests.get(tec_link)\n",
    "tec_table_tree = get_table_by_first_row_text(digital_tec_check, tec_page)\n",
    "tec_table = pd.read_html(tostring(tec_table_tree))[0].iloc[:, -1].T\n",
    "tec_table = tec_table.to_frame().T\n",
    "for column in (get_count_from-1):\n",
    "        tec_table[column] = tec_table[column].apply(lambda x: int(x.split(\" \")[0]))\n",
    "tec_table[11] = tec_table[11].fillna(99999)\n",
    "tec_table.columns = column_names\n",
    "tec_table.index = [99999]"
   ]
  },
  {
   "cell_type": "code",
   "execution_count": 230,
   "metadata": {},
   "outputs": [],
   "source": [
    "main_table = main_table.append(tec_table)"
   ]
  },
  {
   "cell_type": "code",
   "execution_count": 246,
   "metadata": {},
   "outputs": [],
   "source": [
    "column_names = [\"All\", \"get_by_commission\", \"issued_indoors\", \"issued_outdoors\",\n",
    "                \"not_used\", \"in_portable_box\", \"in_stationary_box\", \"not_valid\",\n",
    "                \"valid\", \"losted\", \"not_taken_in_count\", \"tec_number\",\n",
    "                \"Amosov\", \"Beglov\", \"Tihonova\"]\n",
    "main_table.columns = column_names\n",
    "main_table = main_table.transform(lambda x: x.astype('int'))"
   ]
  },
  {
   "cell_type": "code",
   "execution_count": 250,
   "metadata": {},
   "outputs": [],
   "source": [
    "main_table.to_csv(\"voting_spb_governor_2019.csv\")"
   ]
  },
  {
   "cell_type": "code",
   "execution_count": null,
   "metadata": {},
   "outputs": [],
   "source": []
  }
 ],
 "metadata": {
  "kernelspec": {
   "display_name": "Python 3",
   "language": "python",
   "name": "python3"
  },
  "language_info": {
   "codemirror_mode": {
    "name": "ipython",
    "version": 3
   },
   "file_extension": ".py",
   "mimetype": "text/x-python",
   "name": "python",
   "nbconvert_exporter": "python",
   "pygments_lexer": "ipython3",
   "version": "3.7.6"
  }
 },
 "nbformat": 4,
 "nbformat_minor": 4
}

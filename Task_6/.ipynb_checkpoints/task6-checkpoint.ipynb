{
 "cells": [
  {
   "cell_type": "code",
   "execution_count": 208,
   "metadata": {},
   "outputs": [
    {
     "name": "stderr",
     "output_type": "stream",
     "text": [
      "c:\\program files (x86)\\anacnonda3\\envs\\last_test\\lib\\site-packages\\tqdm\\std.py:699: FutureWarning: The Panel class is removed from pandas. Accessing it from the top-level namespace will also be removed in the next version\n",
      "  from pandas import Panel\n"
     ]
    }
   ],
   "source": [
    "import pymorphy2\n",
    "import pandas as pd\n",
    "import numpy as np\n",
    "import re\n",
    "from gensim.models import Word2Vec\n",
    "from pymorphy2.tokenizers import simple_word_tokenize\n",
    "from tqdm import tqdm\n",
    "from sklearn.model_selection import GridSearchCV, train_test_split\n",
    "from sklearn.metrics import f1_score, accuracy_score\n",
    "from sklearn.preprocessing import LabelEncoder\n",
    "from sklearn.naive_bayes import MultinomialNB, GaussianNB\n",
    "from sklearn.linear_model import LogisticRegression\n",
    "tqdm.pandas()\n",
    "\n",
    "morph = pymorphy2.MorphAnalyzer()\n",
    "lines = list(open('./news_train.txt', 'r', encoding='utf-8'))"
   ]
  },
  {
   "cell_type": "markdown",
   "metadata": {},
   "source": [
    "# 1"
   ]
  },
  {
   "cell_type": "code",
   "execution_count": 21,
   "metadata": {},
   "outputs": [],
   "source": [
    "def check_for_word(string):\n",
    "    pattern = \"[a-zа-я0-9]\"\n",
    "    return True if re.findall(pattern, string.lower()) else False\n",
    "def normalize(text):\n",
    "    return \" \".join(list(map(lambda x : morph.parse(x)[0].normal_form, filter(lambda x: check_for_word(x), simple_word_tokenize(text)))))"
   ]
  },
  {
   "cell_type": "code",
   "execution_count": 22,
   "metadata": {},
   "outputs": [],
   "source": [
    "df = pd.read_csv(\"news_train.txt\", sep = '\\t', header = None).rename(columns = {0 : 'theme', 1 : \"title\", 2 : \"body\"})"
   ]
  },
  {
   "cell_type": "code",
   "execution_count": 24,
   "metadata": {},
   "outputs": [
    {
     "name": "stderr",
     "output_type": "stream",
     "text": [
      "100%|███████████████████████████████████████████████████████████████████████████| 15000/15000 [01:18<00:00, 191.17it/s]\n",
      "100%|████████████████████████████████████████████████████████████████████████████| 15000/15000 [16:27<00:00, 15.19it/s]\n"
     ]
    }
   ],
   "source": [
    "df['title'] = df['title'].progress_apply(normalize)\n",
    "df['body'] = df['body'].progress_apply(normalize)"
   ]
  },
  {
   "cell_type": "code",
   "execution_count": 27,
   "metadata": {},
   "outputs": [
    {
     "data": {
      "text/html": [
       "<div>\n",
       "<style scoped>\n",
       "    .dataframe tbody tr th:only-of-type {\n",
       "        vertical-align: middle;\n",
       "    }\n",
       "\n",
       "    .dataframe tbody tr th {\n",
       "        vertical-align: top;\n",
       "    }\n",
       "\n",
       "    .dataframe thead th {\n",
       "        text-align: right;\n",
       "    }\n",
       "</style>\n",
       "<table border=\"1\" class=\"dataframe\">\n",
       "  <thead>\n",
       "    <tr style=\"text-align: right;\">\n",
       "      <th></th>\n",
       "      <th>theme</th>\n",
       "      <th>title</th>\n",
       "      <th>body</th>\n",
       "    </tr>\n",
       "  </thead>\n",
       "  <tbody>\n",
       "    <tr>\n",
       "      <th>0</th>\n",
       "      <td>sport</td>\n",
       "      <td>овечкин пожертвовать детский хоккейный школа а...</td>\n",
       "      <td>нападать вашингтон кэпиталзти александр овечки...</td>\n",
       "    </tr>\n",
       "    <tr>\n",
       "      <th>1</th>\n",
       "      <td>culture</td>\n",
       "      <td>рекордно дорогой статуя майя признать подделка</td>\n",
       "      <td>власть мексика объявить подделка статуя майя п...</td>\n",
       "    </tr>\n",
       "    <tr>\n",
       "      <th>2</th>\n",
       "      <td>science</td>\n",
       "      <td>samsung представить флагман в защитить корпус</td>\n",
       "      <td>южнокорейский samsung анонсировать защитить ве...</td>\n",
       "    </tr>\n",
       "  </tbody>\n",
       "</table>\n",
       "</div>"
      ],
      "text/plain": [
       "     theme                                              title  \\\n",
       "0    sport  овечкин пожертвовать детский хоккейный школа а...   \n",
       "1  culture     рекордно дорогой статуя майя признать подделка   \n",
       "2  science      samsung представить флагман в защитить корпус   \n",
       "\n",
       "                                                body  \n",
       "0  нападать вашингтон кэпиталзти александр овечки...  \n",
       "1  власть мексика объявить подделка статуя майя п...  \n",
       "2  южнокорейский samsung анонсировать защитить ве...  "
      ]
     },
     "execution_count": 27,
     "metadata": {},
     "output_type": "execute_result"
    }
   ],
   "source": [
    "df.head(3)"
   ]
  },
  {
   "cell_type": "markdown",
   "metadata": {},
   "source": [
    "# 2 "
   ]
  },
  {
   "cell_type": "code",
   "execution_count": 60,
   "metadata": {},
   "outputs": [],
   "source": [
    "w2c = Word2Vec()\n",
    "titles= df.title.apply(lambda x : x.split(\" \")).values\n",
    "sentenses =df.body.apply(lambda x : x.split(\" \")).values\n",
    "w2c.build_vocab(titles + sentenses)"
   ]
  },
  {
   "cell_type": "code",
   "execution_count": 77,
   "metadata": {},
   "outputs": [
    {
     "data": {
      "text/plain": [
       "(50425414, 60562680)"
      ]
     },
     "execution_count": 77,
     "metadata": {},
     "output_type": "execute_result"
    }
   ],
   "source": [
    "w2c.train(sentences=sentenses + titles, epochs = 20, total_examples = len(sentenses))"
   ]
  },
  {
   "cell_type": "code",
   "execution_count": 78,
   "metadata": {},
   "outputs": [
    {
     "data": {
      "text/html": [
       "<div>\n",
       "<style scoped>\n",
       "    .dataframe tbody tr th:only-of-type {\n",
       "        vertical-align: middle;\n",
       "    }\n",
       "\n",
       "    .dataframe tbody tr th {\n",
       "        vertical-align: top;\n",
       "    }\n",
       "\n",
       "    .dataframe thead th {\n",
       "        text-align: right;\n",
       "    }\n",
       "</style>\n",
       "<table border=\"1\" class=\"dataframe\">\n",
       "  <thead>\n",
       "    <tr style=\"text-align: right;\">\n",
       "      <th></th>\n",
       "      <th>title</th>\n",
       "      <th>body</th>\n",
       "    </tr>\n",
       "  </thead>\n",
       "  <tbody>\n",
       "    <tr>\n",
       "      <th>10</th>\n",
       "      <td>стивен кинг объявить дата выход продолжение си...</td>\n",
       "      <td>сиквел сияние роман доктор сон doctor sleep вы...</td>\n",
       "    </tr>\n",
       "    <tr>\n",
       "      <th>55</th>\n",
       "      <td>вино дизель намекнуть на участие в мститель 2</td>\n",
       "      <td>вино дизель намекнуть на свой возможный участи...</td>\n",
       "    </tr>\n",
       "    <tr>\n",
       "      <th>250</th>\n",
       "      <td>pepsico отучить американец закупаться газировк...</td>\n",
       "      <td>производитель газировать напиток pepsi изменит...</td>\n",
       "    </tr>\n",
       "  </tbody>\n",
       "</table>\n",
       "</div>"
      ],
      "text/plain": [
       "                                                 title  \\\n",
       "10   стивен кинг объявить дата выход продолжение си...   \n",
       "55       вино дизель намекнуть на участие в мститель 2   \n",
       "250  pepsico отучить американец закупаться газировк...   \n",
       "\n",
       "                                                  body  \n",
       "10   сиквел сияние роман доктор сон doctor sleep вы...  \n",
       "55   вино дизель намекнуть на свой возможный участи...  \n",
       "250  производитель газировать напиток pepsi изменит...  "
      ]
     },
     "execution_count": 78,
     "metadata": {},
     "output_type": "execute_result"
    }
   ],
   "source": [
    "df.iloc[[10, 55, 250], [1,2]]"
   ]
  },
  {
   "cell_type": "code",
   "execution_count": 79,
   "metadata": {},
   "outputs": [
    {
     "data": {
      "text/plain": [
       "[('пиво', 0.7198864221572876),\n",
       " ('виски', 0.690479040145874),\n",
       " ('алкоголь', 0.6772839426994324),\n",
       " ('коктейль', 0.6461564898490906),\n",
       " ('водка', 0.6345672607421875),\n",
       " ('сок', 0.623690128326416),\n",
       " ('спиртное', 0.6069071292877197),\n",
       " ('вино', 0.583044171333313),\n",
       " ('блюдо', 0.5648826956748962),\n",
       " ('упаковка', 0.5549185276031494)]"
      ]
     },
     "execution_count": 79,
     "metadata": {},
     "output_type": "execute_result"
    }
   ],
   "source": [
    "w2c.wv.most_similar(positive = ['напиток'])"
   ]
  },
  {
   "cell_type": "code",
   "execution_count": 80,
   "metadata": {},
   "outputs": [
    {
     "data": {
      "text/plain": [
       "[('пиво', 0.7182505130767822),\n",
       " ('виски', 0.6757156252861023),\n",
       " ('спиртное', 0.6745001077651978),\n",
       " ('водка', 0.6725262403488159),\n",
       " ('марихуана', 0.6396944522857666),\n",
       " ('сок', 0.637101411819458),\n",
       " ('наркотик', 0.631018877029419),\n",
       " ('коктейль', 0.6265457272529602),\n",
       " ('спирт', 0.6189994812011719),\n",
       " ('мини-бар', 0.6154335141181946)]"
      ]
     },
     "execution_count": 80,
     "metadata": {},
     "output_type": "execute_result"
    }
   ],
   "source": [
    "w2c.wv.most_similar(positive = ['напиток', \"алкоголь\"])"
   ]
  },
  {
   "cell_type": "markdown",
   "metadata": {},
   "source": [
    "# 3 "
   ]
  },
  {
   "cell_type": "code",
   "execution_count": 84,
   "metadata": {},
   "outputs": [],
   "source": [
    "def get_score(text):\n",
    "    result = np.zeros(100)\n",
    "    for word in text:\n",
    "        if word in w2c:\n",
    "            result += w2c[word]\n",
    "    return result"
   ]
  },
  {
   "cell_type": "code",
   "execution_count": 87,
   "metadata": {
    "collapsed": true
   },
   "outputs": [
    {
     "ename": "AttributeError",
     "evalue": "'list' object has no attribute 'split'",
     "output_type": "error",
     "traceback": [
      "\u001b[1;31m---------------------------------------------------------------------------\u001b[0m",
      "\u001b[1;31mAttributeError\u001b[0m                            Traceback (most recent call last)",
      "\u001b[1;32m<ipython-input-87-560007ffdfb3>\u001b[0m in \u001b[0;36m<module>\u001b[1;34m\u001b[0m\n\u001b[1;32m----> 1\u001b[1;33m \u001b[0mdf\u001b[0m\u001b[1;33m.\u001b[0m\u001b[0mtitle\u001b[0m \u001b[1;33m=\u001b[0m \u001b[0mdf\u001b[0m\u001b[1;33m.\u001b[0m\u001b[0mtitle\u001b[0m\u001b[1;33m.\u001b[0m\u001b[0mapply\u001b[0m\u001b[1;33m(\u001b[0m\u001b[1;32mlambda\u001b[0m \u001b[0mx\u001b[0m\u001b[1;33m:\u001b[0m \u001b[0mx\u001b[0m\u001b[1;33m.\u001b[0m\u001b[0msplit\u001b[0m\u001b[1;33m(\u001b[0m\u001b[1;34m\" \"\u001b[0m\u001b[1;33m)\u001b[0m\u001b[1;33m)\u001b[0m\u001b[1;33m\u001b[0m\u001b[1;33m\u001b[0m\u001b[0m\n\u001b[0m\u001b[0;32m      2\u001b[0m \u001b[0mdf\u001b[0m\u001b[1;33m.\u001b[0m\u001b[0mbody\u001b[0m \u001b[1;33m=\u001b[0m \u001b[0mdf\u001b[0m\u001b[1;33m.\u001b[0m\u001b[0mbody\u001b[0m\u001b[1;33m.\u001b[0m\u001b[0mapply\u001b[0m\u001b[1;33m(\u001b[0m\u001b[1;32mlambda\u001b[0m \u001b[0mx\u001b[0m\u001b[1;33m:\u001b[0m \u001b[0mx\u001b[0m\u001b[1;33m.\u001b[0m\u001b[0msplit\u001b[0m\u001b[1;33m(\u001b[0m\u001b[1;34m\" \"\u001b[0m\u001b[1;33m)\u001b[0m\u001b[1;33m)\u001b[0m\u001b[1;33m\u001b[0m\u001b[1;33m\u001b[0m\u001b[0m\n",
      "\u001b[1;32mc:\\program files (x86)\\anacnonda3\\envs\\last_test\\lib\\site-packages\\pandas\\core\\series.py\u001b[0m in \u001b[0;36mapply\u001b[1;34m(self, func, convert_dtype, args, **kwds)\u001b[0m\n\u001b[0;32m   3846\u001b[0m             \u001b[1;32melse\u001b[0m\u001b[1;33m:\u001b[0m\u001b[1;33m\u001b[0m\u001b[1;33m\u001b[0m\u001b[0m\n\u001b[0;32m   3847\u001b[0m                 \u001b[0mvalues\u001b[0m \u001b[1;33m=\u001b[0m \u001b[0mself\u001b[0m\u001b[1;33m.\u001b[0m\u001b[0mastype\u001b[0m\u001b[1;33m(\u001b[0m\u001b[0mobject\u001b[0m\u001b[1;33m)\u001b[0m\u001b[1;33m.\u001b[0m\u001b[0mvalues\u001b[0m\u001b[1;33m\u001b[0m\u001b[1;33m\u001b[0m\u001b[0m\n\u001b[1;32m-> 3848\u001b[1;33m                 \u001b[0mmapped\u001b[0m \u001b[1;33m=\u001b[0m \u001b[0mlib\u001b[0m\u001b[1;33m.\u001b[0m\u001b[0mmap_infer\u001b[0m\u001b[1;33m(\u001b[0m\u001b[0mvalues\u001b[0m\u001b[1;33m,\u001b[0m \u001b[0mf\u001b[0m\u001b[1;33m,\u001b[0m \u001b[0mconvert\u001b[0m\u001b[1;33m=\u001b[0m\u001b[0mconvert_dtype\u001b[0m\u001b[1;33m)\u001b[0m\u001b[1;33m\u001b[0m\u001b[1;33m\u001b[0m\u001b[0m\n\u001b[0m\u001b[0;32m   3849\u001b[0m \u001b[1;33m\u001b[0m\u001b[0m\n\u001b[0;32m   3850\u001b[0m         \u001b[1;32mif\u001b[0m \u001b[0mlen\u001b[0m\u001b[1;33m(\u001b[0m\u001b[0mmapped\u001b[0m\u001b[1;33m)\u001b[0m \u001b[1;32mand\u001b[0m \u001b[0misinstance\u001b[0m\u001b[1;33m(\u001b[0m\u001b[0mmapped\u001b[0m\u001b[1;33m[\u001b[0m\u001b[1;36m0\u001b[0m\u001b[1;33m]\u001b[0m\u001b[1;33m,\u001b[0m \u001b[0mSeries\u001b[0m\u001b[1;33m)\u001b[0m\u001b[1;33m:\u001b[0m\u001b[1;33m\u001b[0m\u001b[1;33m\u001b[0m\u001b[0m\n",
      "\u001b[1;32mpandas\\_libs\\lib.pyx\u001b[0m in \u001b[0;36mpandas._libs.lib.map_infer\u001b[1;34m()\u001b[0m\n",
      "\u001b[1;32m<ipython-input-87-560007ffdfb3>\u001b[0m in \u001b[0;36m<lambda>\u001b[1;34m(x)\u001b[0m\n\u001b[1;32m----> 1\u001b[1;33m \u001b[0mdf\u001b[0m\u001b[1;33m.\u001b[0m\u001b[0mtitle\u001b[0m \u001b[1;33m=\u001b[0m \u001b[0mdf\u001b[0m\u001b[1;33m.\u001b[0m\u001b[0mtitle\u001b[0m\u001b[1;33m.\u001b[0m\u001b[0mapply\u001b[0m\u001b[1;33m(\u001b[0m\u001b[1;32mlambda\u001b[0m \u001b[0mx\u001b[0m\u001b[1;33m:\u001b[0m \u001b[0mx\u001b[0m\u001b[1;33m.\u001b[0m\u001b[0msplit\u001b[0m\u001b[1;33m(\u001b[0m\u001b[1;34m\" \"\u001b[0m\u001b[1;33m)\u001b[0m\u001b[1;33m)\u001b[0m\u001b[1;33m\u001b[0m\u001b[1;33m\u001b[0m\u001b[0m\n\u001b[0m\u001b[0;32m      2\u001b[0m \u001b[0mdf\u001b[0m\u001b[1;33m.\u001b[0m\u001b[0mbody\u001b[0m \u001b[1;33m=\u001b[0m \u001b[0mdf\u001b[0m\u001b[1;33m.\u001b[0m\u001b[0mbody\u001b[0m\u001b[1;33m.\u001b[0m\u001b[0mapply\u001b[0m\u001b[1;33m(\u001b[0m\u001b[1;32mlambda\u001b[0m \u001b[0mx\u001b[0m\u001b[1;33m:\u001b[0m \u001b[0mx\u001b[0m\u001b[1;33m.\u001b[0m\u001b[0msplit\u001b[0m\u001b[1;33m(\u001b[0m\u001b[1;34m\" \"\u001b[0m\u001b[1;33m)\u001b[0m\u001b[1;33m)\u001b[0m\u001b[1;33m\u001b[0m\u001b[1;33m\u001b[0m\u001b[0m\n",
      "\u001b[1;31mAttributeError\u001b[0m: 'list' object has no attribute 'split'"
     ]
    }
   ],
   "source": [
    "df.title = df.title.apply(lambda x: x.split(\" \"))\n",
    "df.body = df.body.apply(lambda x: x.split(\" \"))"
   ]
  },
  {
   "cell_type": "code",
   "execution_count": 88,
   "metadata": {},
   "outputs": [
    {
     "data": {
      "text/html": [
       "<div>\n",
       "<style scoped>\n",
       "    .dataframe tbody tr th:only-of-type {\n",
       "        vertical-align: middle;\n",
       "    }\n",
       "\n",
       "    .dataframe tbody tr th {\n",
       "        vertical-align: top;\n",
       "    }\n",
       "\n",
       "    .dataframe thead th {\n",
       "        text-align: right;\n",
       "    }\n",
       "</style>\n",
       "<table border=\"1\" class=\"dataframe\">\n",
       "  <thead>\n",
       "    <tr style=\"text-align: right;\">\n",
       "      <th></th>\n",
       "      <th>theme</th>\n",
       "      <th>title</th>\n",
       "      <th>body</th>\n",
       "    </tr>\n",
       "  </thead>\n",
       "  <tbody>\n",
       "    <tr>\n",
       "      <th>0</th>\n",
       "      <td>sport</td>\n",
       "      <td>[овечкин, пожертвовать, детский, хоккейный, шк...</td>\n",
       "      <td>[нападать, вашингтон, кэпиталзти, александр, о...</td>\n",
       "    </tr>\n",
       "    <tr>\n",
       "      <th>1</th>\n",
       "      <td>culture</td>\n",
       "      <td>[рекордно, дорогой, статуя, майя, признать, по...</td>\n",
       "      <td>[власть, мексика, объявить, подделка, статуя, ...</td>\n",
       "    </tr>\n",
       "    <tr>\n",
       "      <th>2</th>\n",
       "      <td>science</td>\n",
       "      <td>[samsung, представить, флагман, в, защитить, к...</td>\n",
       "      <td>[южнокорейский, samsung, анонсировать, защитит...</td>\n",
       "    </tr>\n",
       "  </tbody>\n",
       "</table>\n",
       "</div>"
      ],
      "text/plain": [
       "     theme                                              title  \\\n",
       "0    sport  [овечкин, пожертвовать, детский, хоккейный, шк...   \n",
       "1  culture  [рекордно, дорогой, статуя, майя, признать, по...   \n",
       "2  science  [samsung, представить, флагман, в, защитить, к...   \n",
       "\n",
       "                                                body  \n",
       "0  [нападать, вашингтон, кэпиталзти, александр, о...  \n",
       "1  [власть, мексика, объявить, подделка, статуя, ...  \n",
       "2  [южнокорейский, samsung, анонсировать, защитит...  "
      ]
     },
     "execution_count": 88,
     "metadata": {},
     "output_type": "execute_result"
    }
   ],
   "source": [
    "df.head(3)"
   ]
  },
  {
   "cell_type": "code",
   "execution_count": 91,
   "metadata": {},
   "outputs": [
    {
     "name": "stderr",
     "output_type": "stream",
     "text": [
      "c:\\program files (x86)\\anacnonda3\\envs\\last_test\\lib\\site-packages\\ipykernel_launcher.py:4: DeprecationWarning: Call to deprecated `__contains__` (Method will be removed in 4.0.0, use self.wv.__contains__() instead).\n",
      "  after removing the cwd from sys.path.\n",
      "c:\\program files (x86)\\anacnonda3\\envs\\last_test\\lib\\site-packages\\ipykernel_launcher.py:5: DeprecationWarning: Call to deprecated `__getitem__` (Method will be removed in 4.0.0, use self.wv.__getitem__() instead).\n",
      "  \"\"\"\n"
     ]
    }
   ],
   "source": [
    "df['title_score'] = df.title.apply(get_score)\n",
    "df['body_score'] = df.body.apply(get_score)"
   ]
  },
  {
   "cell_type": "code",
   "execution_count": 92,
   "metadata": {},
   "outputs": [
    {
     "data": {
      "text/html": [
       "<div>\n",
       "<style scoped>\n",
       "    .dataframe tbody tr th:only-of-type {\n",
       "        vertical-align: middle;\n",
       "    }\n",
       "\n",
       "    .dataframe tbody tr th {\n",
       "        vertical-align: top;\n",
       "    }\n",
       "\n",
       "    .dataframe thead th {\n",
       "        text-align: right;\n",
       "    }\n",
       "</style>\n",
       "<table border=\"1\" class=\"dataframe\">\n",
       "  <thead>\n",
       "    <tr style=\"text-align: right;\">\n",
       "      <th></th>\n",
       "      <th>theme</th>\n",
       "      <th>title</th>\n",
       "      <th>body</th>\n",
       "      <th>title_score</th>\n",
       "      <th>body_score</th>\n",
       "    </tr>\n",
       "  </thead>\n",
       "  <tbody>\n",
       "    <tr>\n",
       "      <th>0</th>\n",
       "      <td>sport</td>\n",
       "      <td>[овечкин, пожертвовать, детский, хоккейный, шк...</td>\n",
       "      <td>[нападать, вашингтон, кэпиталзти, александр, о...</td>\n",
       "      <td>[0.28372976183891296, -0.510161891579628, -1.5...</td>\n",
       "      <td>[59.83345056325197, -21.756573852151632, 9.465...</td>\n",
       "    </tr>\n",
       "    <tr>\n",
       "      <th>1</th>\n",
       "      <td>culture</td>\n",
       "      <td>[рекордно, дорогой, статуя, майя, признать, по...</td>\n",
       "      <td>[власть, мексика, объявить, подделка, статуя, ...</td>\n",
       "      <td>[-6.294534731656313, 1.4226891845464706, -3.91...</td>\n",
       "      <td>[-28.306334102526307, -1.7954607562860474, -10...</td>\n",
       "    </tr>\n",
       "    <tr>\n",
       "      <th>2</th>\n",
       "      <td>science</td>\n",
       "      <td>[samsung, представить, флагман, в, защитить, к...</td>\n",
       "      <td>[южнокорейский, samsung, анонсировать, защитит...</td>\n",
       "      <td>[-0.79412442445755, -0.8940077424049377, 4.174...</td>\n",
       "      <td>[22.272396391257644, 10.378550323657691, 43.27...</td>\n",
       "    </tr>\n",
       "  </tbody>\n",
       "</table>\n",
       "</div>"
      ],
      "text/plain": [
       "     theme                                              title  \\\n",
       "0    sport  [овечкин, пожертвовать, детский, хоккейный, шк...   \n",
       "1  culture  [рекордно, дорогой, статуя, майя, признать, по...   \n",
       "2  science  [samsung, представить, флагман, в, защитить, к...   \n",
       "\n",
       "                                                body  \\\n",
       "0  [нападать, вашингтон, кэпиталзти, александр, о...   \n",
       "1  [власть, мексика, объявить, подделка, статуя, ...   \n",
       "2  [южнокорейский, samsung, анонсировать, защитит...   \n",
       "\n",
       "                                         title_score  \\\n",
       "0  [0.28372976183891296, -0.510161891579628, -1.5...   \n",
       "1  [-6.294534731656313, 1.4226891845464706, -3.91...   \n",
       "2  [-0.79412442445755, -0.8940077424049377, 4.174...   \n",
       "\n",
       "                                          body_score  \n",
       "0  [59.83345056325197, -21.756573852151632, 9.465...  \n",
       "1  [-28.306334102526307, -1.7954607562860474, -10...  \n",
       "2  [22.272396391257644, 10.378550323657691, 43.27...  "
      ]
     },
     "execution_count": 92,
     "metadata": {},
     "output_type": "execute_result"
    }
   ],
   "source": [
    "df.head(3)"
   ]
  },
  {
   "cell_type": "markdown",
   "metadata": {},
   "source": [
    "# буду строить две модели. одна для названия другая для тела и комбинировать резы с определенными весами"
   ]
  },
  {
   "cell_type": "code",
   "execution_count": 96,
   "metadata": {},
   "outputs": [
    {
     "name": "stderr",
     "output_type": "stream",
     "text": [
      "100%|█████████████████████████████████████████████████████████████████████████████| 3000/3000 [00:15<00:00, 193.27it/s]\n",
      "100%|██████████████████████████████████████████████████████████████████████████████| 3000/3000 [03:26<00:00, 14.54it/s]\n"
     ]
    }
   ],
   "source": [
    "test_df = pd.read_csv(\"news_test.txt\", sep = '\\t', header = None).rename(columns = {0 : 'theme', 1 : \"title\", 2 : \"body\"})\n",
    "test_df['title'] = test_df['title'].progress_apply(normalize)\n",
    "test_df['body'] = test_df['body'].progress_apply(normalize)"
   ]
  },
  {
   "cell_type": "code",
   "execution_count": 97,
   "metadata": {},
   "outputs": [],
   "source": [
    "test_df.title = test_df.title.apply(lambda x: x.split(\" \"))\n",
    "test_df.body = test_df.body.apply(lambda x: x.split(\" \"))"
   ]
  },
  {
   "cell_type": "code",
   "execution_count": 100,
   "metadata": {},
   "outputs": [
    {
     "name": "stderr",
     "output_type": "stream",
     "text": [
      "c:\\program files (x86)\\anacnonda3\\envs\\last_test\\lib\\site-packages\\ipykernel_launcher.py:4: DeprecationWarning: Call to deprecated `__contains__` (Method will be removed in 4.0.0, use self.wv.__contains__() instead).\n",
      "  after removing the cwd from sys.path.\n",
      "c:\\program files (x86)\\anacnonda3\\envs\\last_test\\lib\\site-packages\\ipykernel_launcher.py:5: DeprecationWarning: Call to deprecated `__getitem__` (Method will be removed in 4.0.0, use self.wv.__getitem__() instead).\n",
      "  \"\"\"\n"
     ]
    }
   ],
   "source": [
    "test_df['body_score'] = test_df.body.apply(get_score)\n",
    "test_df['title_score'] = test_df.title.apply(get_score)"
   ]
  },
  {
   "cell_type": "code",
   "execution_count": 101,
   "metadata": {},
   "outputs": [
    {
     "data": {
      "text/html": [
       "<div>\n",
       "<style scoped>\n",
       "    .dataframe tbody tr th:only-of-type {\n",
       "        vertical-align: middle;\n",
       "    }\n",
       "\n",
       "    .dataframe tbody tr th {\n",
       "        vertical-align: top;\n",
       "    }\n",
       "\n",
       "    .dataframe thead th {\n",
       "        text-align: right;\n",
       "    }\n",
       "</style>\n",
       "<table border=\"1\" class=\"dataframe\">\n",
       "  <thead>\n",
       "    <tr style=\"text-align: right;\">\n",
       "      <th></th>\n",
       "      <th>theme</th>\n",
       "      <th>title</th>\n",
       "      <th>body</th>\n",
       "      <th>body_score</th>\n",
       "      <th>title_score</th>\n",
       "    </tr>\n",
       "  </thead>\n",
       "  <tbody>\n",
       "    <tr>\n",
       "      <th>0</th>\n",
       "      <td>culture</td>\n",
       "      <td>[жительница, ямал, победить, в, первый, песенн...</td>\n",
       "      <td>[жительница, ямало-ненецкий, автономный, округ...</td>\n",
       "      <td>[-54.096726251067594, -84.21878019766882, -31....</td>\n",
       "      <td>[0.19808059930801392, -0.7320109009742737, 0.1...</td>\n",
       "    </tr>\n",
       "    <tr>\n",
       "      <th>1</th>\n",
       "      <td>media</td>\n",
       "      <td>[почти, половина, twitter-пользователь, никогд...</td>\n",
       "      <td>[около, 44, процент, из, весь, зарегистрироват...</td>\n",
       "      <td>[47.32149924710393, 14.823631159961224, 118.08...</td>\n",
       "      <td>[-6.0880324095487595, 2.0753595381975174, -2.7...</td>\n",
       "    </tr>\n",
       "    <tr>\n",
       "      <th>2</th>\n",
       "      <td>media</td>\n",
       "      <td>[билайн, начать, реклама, роуминг, под, песенк...</td>\n",
       "      <td>[в, новый, рекламный, кампания, мобильный, опе...</td>\n",
       "      <td>[-32.33118448778987, -43.25968999764882, -38.8...</td>\n",
       "      <td>[2.414847195148468, -0.35211583971977234, -2.0...</td>\n",
       "    </tr>\n",
       "  </tbody>\n",
       "</table>\n",
       "</div>"
      ],
      "text/plain": [
       "     theme                                              title  \\\n",
       "0  culture  [жительница, ямал, победить, в, первый, песенн...   \n",
       "1    media  [почти, половина, twitter-пользователь, никогд...   \n",
       "2    media  [билайн, начать, реклама, роуминг, под, песенк...   \n",
       "\n",
       "                                                body  \\\n",
       "0  [жительница, ямало-ненецкий, автономный, округ...   \n",
       "1  [около, 44, процент, из, весь, зарегистрироват...   \n",
       "2  [в, новый, рекламный, кампания, мобильный, опе...   \n",
       "\n",
       "                                          body_score  \\\n",
       "0  [-54.096726251067594, -84.21878019766882, -31....   \n",
       "1  [47.32149924710393, 14.823631159961224, 118.08...   \n",
       "2  [-32.33118448778987, -43.25968999764882, -38.8...   \n",
       "\n",
       "                                         title_score  \n",
       "0  [0.19808059930801392, -0.7320109009742737, 0.1...  \n",
       "1  [-6.0880324095487595, 2.0753595381975174, -2.7...  \n",
       "2  [2.414847195148468, -0.35211583971977234, -2.0...  "
      ]
     },
     "execution_count": 101,
     "metadata": {},
     "output_type": "execute_result"
    }
   ],
   "source": [
    "test_df.head(3)"
   ]
  },
  {
   "cell_type": "markdown",
   "metadata": {},
   "source": [
    "# лог рег"
   ]
  },
  {
   "cell_type": "code",
   "execution_count": 216,
   "metadata": {},
   "outputs": [],
   "source": [
    "class multi_theme:\n",
    "    def __init__(self, model_type, X1, X2, y, weights : list, params):\n",
    "        \n",
    "        #передаем столбцы фрейма с  векторами\n",
    "        self.X1 = np.array([vector for vector in X1.values])\n",
    "        self.X2 = np.array([vector for vector in X2.values])\n",
    "        \n",
    "        assert self.X1.shape == self.X2.shape, 'x1&x2 shape different'\n",
    "        assert self.X1.shape[1] == 100, 'wrong shape'\n",
    "        \n",
    "        self.label_encoder = LabelEncoder()\n",
    "        self.y = self.label_encoder.fit_transform(y)\n",
    "        self.model = model_type\n",
    "        self.weights = weights\n",
    "        self.params = params\n",
    "        \n",
    "    def search_best_weight(self):\n",
    "        best_score = float('-inf')\n",
    "        best_weight = self.weights[0]\n",
    "        \n",
    "        self.model1 = self.get_fitted_model(self.X1)\n",
    "        self.model2 = self.get_fitted_model(self.X2)\n",
    "        \n",
    "        proba1 = self.model1.predict_proba(self.X1)\n",
    "        proba2 = self.model2.predict_proba(self.X2)\n",
    "        for weight in self.weights:\n",
    "            predicted = np.argmax(weight * proba1  + (1 - weight) * proba2, axis = 1)\n",
    "            score = f1_score(self.y, predicted, average = 'micro')\n",
    "            if score > best_score:\n",
    "                best_weight = weight\n",
    "                best_score = score\n",
    "                accuracy = accuracy_score(predicted, self.y)\n",
    "        self.best_weight = best_weight\n",
    "        self.accuracy_score = accuracy\n",
    "        self.best_score = best_score\n",
    "        return best_score, best_weight\n",
    "            \n",
    "    def predict(self, X1, X2):\n",
    "        X1 = np.array([vector for vector in X1.values])\n",
    "        X2 = np.array([vector for vector in X2.values])\n",
    "        return np.argmax(self.best_weight * self.model1.predict_proba(X1) + (1 - self.best_weight) * self.model2.predict_proba(X2), axis = 1)\n",
    "        \n",
    "    def get_fitted_model(self, X):\n",
    "        model = GridSearchCV(self.model(), self.params, n_jobs =-1, scoring = 'f1_micro', cv = 4)\n",
    "        model.fit(X, self.y)\n",
    "        return model"
   ]
  },
  {
   "cell_type": "code",
   "execution_count": 217,
   "metadata": {},
   "outputs": [],
   "source": [
    "log_reg_params = {'C' : [0.05, 0.2, 0.6, 0.8, 1, 2, 5, 10, 20, 30]}\n",
    "multi_log_reg = multi_theme(LogisticRegression, X1 = df.title_score, X2=df.body_score, y = df.theme, params=log_reg_params, weights=np.linspace(0, 1, 100))"
   ]
  },
  {
   "cell_type": "code",
   "execution_count": 218,
   "metadata": {},
   "outputs": [
    {
     "name": "stderr",
     "output_type": "stream",
     "text": [
      "c:\\program files (x86)\\anacnonda3\\envs\\last_test\\lib\\site-packages\\sklearn\\linear_model\\_logistic.py:940: ConvergenceWarning: lbfgs failed to converge (status=1):\n",
      "STOP: TOTAL NO. of ITERATIONS REACHED LIMIT.\n",
      "\n",
      "Increase the number of iterations (max_iter) or scale the data as shown in:\n",
      "    https://scikit-learn.org/stable/modules/preprocessing.html\n",
      "Please also refer to the documentation for alternative solver options:\n",
      "    https://scikit-learn.org/stable/modules/linear_model.html#logistic-regression\n",
      "  extra_warning_msg=_LOGISTIC_SOLVER_CONVERGENCE_MSG)\n",
      "c:\\program files (x86)\\anacnonda3\\envs\\last_test\\lib\\site-packages\\sklearn\\linear_model\\_logistic.py:940: ConvergenceWarning: lbfgs failed to converge (status=1):\n",
      "STOP: TOTAL NO. of ITERATIONS REACHED LIMIT.\n",
      "\n",
      "Increase the number of iterations (max_iter) or scale the data as shown in:\n",
      "    https://scikit-learn.org/stable/modules/preprocessing.html\n",
      "Please also refer to the documentation for alternative solver options:\n",
      "    https://scikit-learn.org/stable/modules/linear_model.html#logistic-regression\n",
      "  extra_warning_msg=_LOGISTIC_SOLVER_CONVERGENCE_MSG)\n"
     ]
    },
    {
     "data": {
      "text/plain": [
       "(0.8682, 0.33333333333333337)"
      ]
     },
     "execution_count": 218,
     "metadata": {},
     "output_type": "execute_result"
    }
   ],
   "source": [
    "multi_log_reg.search_best_weight()"
   ]
  },
  {
   "cell_type": "code",
   "execution_count": 219,
   "metadata": {},
   "outputs": [
    {
     "name": "stdout",
     "output_type": "stream",
     "text": [
      "micro f1 logistic regression train score - 0.8682\n"
     ]
    }
   ],
   "source": [
    "print(\"micro f1 logistic regression train score - {}\".format(multi_log_reg.best_score))"
   ]
  },
  {
   "cell_type": "code",
   "execution_count": 220,
   "metadata": {},
   "outputs": [
    {
     "data": {
      "text/plain": [
       "0.857"
      ]
     },
     "execution_count": 220,
     "metadata": {},
     "output_type": "execute_result"
    }
   ],
   "source": [
    "y_test_log_reg = multi_log_reg.label_encoder.transform(test_df.theme)\n",
    "test_predicted = multi_log_reg.predict(test_df.title_score, test_df.body_score)\n",
    "f1_score(test_predicted, y_test_log_reg, average='micro')"
   ]
  },
  {
   "cell_type": "code",
   "execution_count": 221,
   "metadata": {},
   "outputs": [
    {
     "name": "stdout",
     "output_type": "stream",
     "text": [
      "micro f1 logistic regression test score - 0.857\n"
     ]
    }
   ],
   "source": [
    "print(\"micro f1 logistic regression test score - {}\".format(f1_score(test_predicted, y_test_log_reg, average='micro')))"
   ]
  },
  {
   "cell_type": "code",
   "execution_count": null,
   "metadata": {},
   "outputs": [],
   "source": []
  },
  {
   "cell_type": "code",
   "execution_count": 222,
   "metadata": {},
   "outputs": [],
   "source": [
    "bayes_params = {}\n",
    "multi_bayes = multi_theme(GaussianNB, X1 = df.title_score, X2=df.body_score, y = df.theme, params=bayes_params, weights=np.linspace(0, 1, 100))"
   ]
  },
  {
   "cell_type": "code",
   "execution_count": 223,
   "metadata": {},
   "outputs": [
    {
     "data": {
      "text/plain": [
       "(0.7242666666666666, 0.494949494949495)"
      ]
     },
     "execution_count": 223,
     "metadata": {},
     "output_type": "execute_result"
    }
   ],
   "source": [
    "multi_bayes.search_best_weight()"
   ]
  },
  {
   "cell_type": "code",
   "execution_count": 224,
   "metadata": {},
   "outputs": [
    {
     "name": "stdout",
     "output_type": "stream",
     "text": [
      "micro f1 logistic regression train score - 0.7242666666666666\n"
     ]
    }
   ],
   "source": [
    "print(\"micro f1 logistic regression train score - {}\".format(multi_bayes.best_score))"
   ]
  },
  {
   "cell_type": "code",
   "execution_count": 225,
   "metadata": {},
   "outputs": [
    {
     "data": {
      "text/plain": [
       "0.7236666666666667"
      ]
     },
     "execution_count": 225,
     "metadata": {},
     "output_type": "execute_result"
    }
   ],
   "source": [
    "y_test_bayes = multi_bayes.label_encoder.transform(test_df.theme)\n",
    "test_predicted = multi_bayes.predict(test_df.title_score, test_df.body_score)\n",
    "f1_score(test_predicted, y_test_log_reg, average='micro')"
   ]
  },
  {
   "cell_type": "code",
   "execution_count": 226,
   "metadata": {},
   "outputs": [
    {
     "name": "stdout",
     "output_type": "stream",
     "text": [
      "micro f1 logistic regression test score - 0.7236666666666667\n"
     ]
    }
   ],
   "source": [
    "print(\"micro f1 logistic regression test score - {}\".format(f1_score(test_predicted, y_test_log_reg, average='micro')))"
   ]
  }
 ],
 "metadata": {
  "kernelspec": {
   "display_name": "Python 3",
   "language": "python",
   "name": "python3"
  },
  "language_info": {
   "codemirror_mode": {
    "name": "ipython",
    "version": 3
   },
   "file_extension": ".py",
   "mimetype": "text/x-python",
   "name": "python",
   "nbconvert_exporter": "python",
   "pygments_lexer": "ipython3",
   "version": "3.7.6"
  }
 },
 "nbformat": 4,
 "nbformat_minor": 4
}

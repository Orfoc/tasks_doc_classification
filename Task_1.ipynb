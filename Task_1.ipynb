{
 "cells": [
  {
   "cell_type": "markdown",
   "metadata": {},
   "source": [
    "# Задание 1\n",
    "\n",
    "[Свертка списка](https://ru.wikipedia.org/wiki/%D0%A1%D0%B2%D1%91%D1%80%D1%82%D0%BA%D0%B0_%D1%81%D0%BF%D0%B8%D1%81%D0%BA%D0%B0) -  это обобщенная операция над списком, c помощью которой можно преобразовать список в единое значение. Например, рассмотрим реализации свертки слева и свертки справа (левоассоциативную свертку и правоассоциативную свертку):"
   ]
  },
  {
   "cell_type": "code",
   "execution_count": 2,
   "metadata": {
    "jupyter": {
     "outputs_hidden": true
    }
   },
   "outputs": [],
   "source": [
    "def foldl(f, x0, lst):\n",
    "    if not lst:\n",
    "        return x0\n",
    "    return foldl(f, f(x0, lst[0]), lst[1:])\n",
    "\n",
    "def foldr(f, x0, lst):\n",
    "    if not lst:\n",
    "        return x0\n",
    "    return f(lst[0], foldr(f, x0, lst[1:]))"
   ]
  },
  {
   "cell_type": "code",
   "execution_count": 3,
   "metadata": {},
   "outputs": [
    {
     "data": {
      "text/plain": [
       "6"
      ]
     },
     "execution_count": 3,
     "metadata": {},
     "output_type": "execute_result"
    }
   ],
   "source": [
    "#сумма\n",
    "foldr(lambda x, y: x + y, 0, [1, 2, 3])"
   ]
  },
  {
   "cell_type": "code",
   "execution_count": 4,
   "metadata": {},
   "outputs": [
    {
     "data": {
      "text/plain": [
       "'123'"
      ]
     },
     "execution_count": 4,
     "metadata": {},
     "output_type": "execute_result"
    }
   ],
   "source": [
    "#конкатенация\n",
    "foldl(lambda x, y: '{}{}'.format(x, y), '', [1, 2, 3])"
   ]
  },
  {
   "cell_type": "code",
   "execution_count": 24,
   "metadata": {},
   "outputs": [
    {
     "data": {
      "text/plain": [
       "(0.008333333333333333, 1.875)"
      ]
     },
     "execution_count": 24,
     "metadata": {},
     "output_type": "execute_result"
    }
   ],
   "source": [
    "f = lambda x, y: x / y\n",
    "foldl(f, 1, [1, 2, 3, 4, 5]), \\\n",
    "foldr(f, 1, [1, 2, 3, 4, 5])"
   ]
  },
  {
   "cell_type": "markdown",
   "metadata": {},
   "source": [
    "Задача: реализовать foldl через foldr и наоборот. Вместо многоточий нужно вставить выражения, которые бы привели к нужному результату. Модифицировать сам список нельзя. "
   ]
  },
  {
   "cell_type": "code",
   "execution_count": 25,
   "metadata": {
    "jupyter": {
     "outputs_hidden": true
    }
   },
   "outputs": [
    {
     "data": {
      "text/plain": [
       "0.008333333333333333"
      ]
     },
     "execution_count": 25,
     "metadata": {},
     "output_type": "execute_result"
    }
   ],
   "source": [
    "f = lambda x, y: x / y\n",
    "def foldl2(f, x0, lst):\n",
    "    return foldr(lambda x,y : f(y, x), x0, lst[::-1] )\n",
    "foldl2(f, 1, [1, 2, 3, 4, 5])\n"
   ]
  },
  {
   "cell_type": "code",
   "execution_count": 26,
   "metadata": {
    "jupyter": {
     "outputs_hidden": true
    }
   },
   "outputs": [
    {
     "data": {
      "text/plain": [
       "1.875"
      ]
     },
     "execution_count": 26,
     "metadata": {},
     "output_type": "execute_result"
    }
   ],
   "source": [
    "def foldr2(f, x0, lst):\n",
    "    return foldl(lambda x, y: f(y, x), x0, lst[::-1])\n",
    "foldr2(f, 1, [1,2,3,4,5])"
   ]
  },
  {
   "cell_type": "markdown",
   "metadata": {},
   "source": [
    "# Задание 2\n",
    "\n",
    "нужно написать функцию, которая принимает две строки и проверяет, входит ли хотя бы одна перестановка второй строки в первую. Например:\n",
    "\n",
    "> a = 'abcrotm'\n",
    "> \n",
    "> b = 'tro'\n",
    "\n",
    "функция def check_inv(a, b) вернет True, так как 'rot' содержится в 'abcrotm'. Нужно подумать как можно более оптимальный алгоритм и оценить его сложность. "
   ]
  },
  {
   "cell_type": "code",
   "execution_count": 9,
   "metadata": {
    "jupyter": {
     "outputs_hidden": true
    }
   },
   "outputs": [],
   "source": [
    "def check_inv(a, b):\n",
    "    if len(a) < len(b):\n",
    "        return check_inv(b, a)\n",
    "    i = 0\n",
    "    b = list(b) #O(n)\n",
    "    b.sort()    # O(n*logn)\n",
    "    len_b = len(b) #O(1)\n",
    "    while(i < len(a)): # N\n",
    "        if a[i] in b: # N\n",
    "            check = list(a[i:i+len_b])\n",
    "            check.sort() #N*logN\n",
    "            if check == b:\n",
    "                return True\n",
    "        i += 1\n",
    "    return False"
   ]
  },
  {
   "cell_type": "markdown",
   "metadata": {},
   "source": [
    "# Задание 3\n",
    "\n",
    "Реализовать бинарное дерево (класс Tree), в нём методы __repr__, __str__, __iter__ (итерация только по листьям)."
   ]
  },
  {
   "cell_type": "code",
   "execution_count": 200,
   "metadata": {},
   "outputs": [
    {
     "data": {
      "text/plain": [
       "[3, 3, 4, 4, 2]"
      ]
     },
     "execution_count": 200,
     "metadata": {},
     "output_type": "execute_result"
    }
   ],
   "source": [
    "class Tree:\n",
    "    def __init__(self, value=None, left=None, right=None):\n",
    "        self.left = left\n",
    "        self.right = right\n",
    "        self.value = value\n",
    "        \n",
    "    def __iter__(self):\n",
    "        if not (self.right and self.left):\n",
    "            yield self.value\n",
    "        else:\n",
    "            if self.left:\n",
    "                yield from self.left.__iter__()\n",
    "            if self.right:\n",
    "                yield from self.right.__iter__()\n",
    "    \n",
    "    def __str__(self):\n",
    "        return \"Tree(value = {}, left = {}, right = {})\".format(self.value, str(self.left), str(self.right))\n",
    "    \n",
    "    def __repr__(self):\n",
    "        #????\n",
    "        pass\n",
    "    \n",
    "tree = Tree(0, Tree(1, Tree(3,Tree(3), Tree(4, Tree(3), Tree(4))), Tree(4)),                             \n",
    "               Tree(2))\n",
    "\n",
    "list(tree)"
   ]
  },
  {
   "cell_type": "markdown",
   "metadata": {},
   "source": [
    "# Задание 4\n",
    "\n",
    "Реализовать простейший калькулятор математических выражений:\n",
    "- только целые числа\n",
    "- **+**, **\\-**, **\\***, **\\**\n",
    "- скобки\n",
    "\n",
    "**Можно использовать регулярные выражения**"
   ]
  },
  {
   "cell_type": "code",
   "execution_count": 197,
   "metadata": {},
   "outputs": [
    {
     "name": "stdout",
     "output_type": "stream",
     "text": [
      "2 * (15 - 3 * 4) - 2\n",
      "15 - 3 * 4\n",
      "15 - 12\n",
      "2 * 3 - 2\n",
      "6 - 2\n"
     ]
    },
    {
     "data": {
      "text/plain": [
       "True"
      ]
     },
     "execution_count": 197,
     "metadata": {},
     "output_type": "execute_result"
    }
   ],
   "source": [
    "import re\n",
    "def calculator(expr):\n",
    "    replace = re.findall(r\"\\([-+*/ 0-9]*\\)\", expr)\n",
    "    while replace:\n",
    "        print(expr)\n",
    "        for el in replace:\n",
    "            expr = expr.replace(el, \"{}\").format(calculator(el[1:-1]))\n",
    "        replace = re.findall(r\"\\([-+*/ 0-9]*\\)\", expr)\n",
    "    \n",
    "    multi = re.search(r\"(\\d*) ([*/]) (\\d*)\", expr)\n",
    "    while multi:\n",
    "        print(expr)\n",
    "        a, b, sym = multi[1], multi[3], multi[2]\n",
    "        expr = expr.replace(multi[0], \"{}\").format(operation(a, b, sym))\n",
    "        multi = re.search(r\"(\\d*) ([*/]) (\\d*)\", st)\n",
    "    \n",
    "    plus = re.search(r\"(\\d*) ([+-]) (\\d*)\", expr)\n",
    "    while plus:\n",
    "        print(expr)\n",
    "        a, b, sym = plus[1], plus[3], plus[2]\n",
    "        expr = expr.replace(plus[0], \"{}\").format(operation(a, b, sym))\n",
    "        plus = re.search(r\"(\\d*) ([+-]) (\\d*)\", st)        \n",
    "    \n",
    "    return int(expr)\n",
    "            \n",
    "def operation(a, b, symbol):\n",
    "    a = int(a)\n",
    "    b = int(b)\n",
    "    if symbol == \"*\":\n",
    "        return a*b\n",
    "    elif symbol == \"/\":\n",
    "        return int(a/b)\n",
    "    elif symbol == \"+\":\n",
    "        return a+b\n",
    "    elif symbol == \"-\":\n",
    "        return a-b\n",
    "    \n",
    "calculator('2 * (15 - 3 * 4) - 2') == 4"
   ]
  },
  {
   "cell_type": "code",
   "execution_count": null,
   "metadata": {
    "jupyter": {
     "outputs_hidden": true
    }
   },
   "outputs": [],
   "source": []
  },
  {
   "cell_type": "code",
   "execution_count": null,
   "metadata": {},
   "outputs": [],
   "source": []
  },
  {
   "cell_type": "code",
   "execution_count": null,
   "metadata": {},
   "outputs": [],
   "source": []
  }
 ],
 "metadata": {
  "kernelspec": {
   "display_name": "Python 3",
   "language": "python",
   "name": "python3"
  },
  "language_info": {
   "codemirror_mode": {
    "name": "ipython",
    "version": 3
   },
   "file_extension": ".py",
   "mimetype": "text/x-python",
   "name": "python",
   "nbconvert_exporter": "python",
   "pygments_lexer": "ipython3",
   "version": "3.7.4"
  }
 },
 "nbformat": 4,
 "nbformat_minor": 4
}

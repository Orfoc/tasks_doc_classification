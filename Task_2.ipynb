{
 "cells": [
  {
   "cell_type": "code",
   "execution_count": 2,
   "metadata": {},
   "outputs": [],
   "source": [
    "import numpy as np\n",
    "import scipy as sp\n",
    "import matplotlib.pyplot as plt\n",
    "import seaborn as sns\n",
    "\n",
    "%matplotlib inline"
   ]
  },
  {
   "cell_type": "markdown",
   "metadata": {},
   "source": [
    "# 1. Работа с массивами NumPy"
   ]
  },
  {
   "cell_type": "markdown",
   "metadata": {},
   "source": [
    "**N. Все упражнения ниже нужно делать без использования циклов Python**\n",
    "\n",
    "**1.** Cоздать вектор\n",
    "\n",
    "$$(2, \\frac{2^2}{2}, \\ldots, \\frac{2^{20}}{20})$$\n",
    "\n",
    "Можно использовать функции [np.arange()](http://docs.scipy.org/doc/numpy/reference/generated/numpy.arange.html), [np.ones()](http://docs.scipy.org/doc/numpy/reference/generated/numpy.ones.html)"
   ]
  },
  {
   "cell_type": "code",
   "execution_count": 32,
   "metadata": {},
   "outputs": [
    {
     "data": {
      "text/plain": [
       "27594.105"
      ]
     },
     "execution_count": 32,
     "metadata": {},
     "output_type": "execute_result"
    }
   ],
   "source": [
    "vec = (2 ** np.arange(start = 1, stop = 21)) / np.arange(start = 1, stop = 21)\n",
    "np.around(vec, decimals = 3, out = vec)[18]"
   ]
  },
  {
   "cell_type": "markdown",
   "metadata": {},
   "source": [
    "**2.** Посчитать:\n",
    "\n",
    "$$\\sum\\limits_{i=0}^{5}{0.1^{3i}0.2^{4i}}$$\n"
   ]
  },
  {
   "cell_type": "code",
   "execution_count": 52,
   "metadata": {},
   "outputs": [
    {
     "name": "stdout",
     "output_type": "stream",
     "text": [
      "[ 0  3  6  9 12 15] [ 0  4  8 12 16 20]\n"
     ]
    },
    {
     "data": {
      "text/plain": [
       "1.00000160000256"
      ]
     },
     "execution_count": 52,
     "metadata": {},
     "output_type": "execute_result"
    }
   ],
   "source": [
    "v1 = np.arange(start = 0, stop = 16, step = 3)\n",
    "v2 = np.arange(start = 0, stop = 21, step = 4)\n",
    "np.dot(0.1 ** v1, 0.2 ** v2)"
   ]
  },
  {
   "cell_type": "markdown",
   "metadata": {},
   "source": [
    "**3.** Создать нулевую матрицe $8 \\times 8$, и заполнить её единицами в шахматном порядке."
   ]
  },
  {
   "cell_type": "code",
   "execution_count": 92,
   "metadata": {},
   "outputs": [
    {
     "data": {
      "text/plain": [
       "array([[1., 0., 1., 0., 1., 0., 1., 0.],\n",
       "       [1., 1., 1., 1., 1., 1., 1., 1.],\n",
       "       [1., 0., 1., 0., 1., 0., 1., 0.],\n",
       "       [1., 1., 1., 1., 1., 1., 1., 1.],\n",
       "       [1., 0., 1., 0., 1., 0., 1., 0.],\n",
       "       [1., 1., 1., 1., 1., 1., 1., 1.],\n",
       "       [1., 0., 1., 0., 1., 0., 1., 0.],\n",
       "       [1., 1., 1., 1., 1., 1., 1., 1.]])"
      ]
     },
     "execution_count": 92,
     "metadata": {},
     "output_type": "execute_result"
    }
   ],
   "source": [
    "a = np.zeros((8,8))\n",
    "a[0::1, 0::2] = 1\n",
    "a[1::2, 1::2] = 1\n",
    "a"
   ]
  },
  {
   "cell_type": "markdown",
   "metadata": {},
   "source": [
    "**4.** Есть 5 точек в декартовой системе координат (в виде матрицы $X$ размерностью $5 \\times 2$), сконвертируйте эти точки в полярную систему координат."
   ]
  },
  {
   "cell_type": "code",
   "execution_count": 110,
   "metadata": {},
   "outputs": [
    {
     "data": {
      "text/plain": [
       "array([[1.12296534, 0.59241978],\n",
       "       [1.02237179, 1.25449513],\n",
       "       [0.30084725, 0.04276519],\n",
       "       [0.61184003, 1.50380431],\n",
       "       [0.75186235, 1.30594585]])"
      ]
     },
     "execution_count": 110,
     "metadata": {},
     "output_type": "execute_result"
    }
   ],
   "source": [
    "arr = np.random.random((5, 2))\n",
    "x = arr[:, 0]\n",
    "y = arr[:, 1]\n",
    "r = np.sqrt(x ** 2 + y ** 2)\n",
    "fi = np.arctan(y/x)\n",
    "X = np.array([r, fi]).T\n",
    "X"
   ]
  },
  {
   "cell_type": "markdown",
   "metadata": {},
   "source": [
    "**5.** Найдите индексы максимального элемента в случайной матрице $10 \\times 10$.\n",
    "\n",
    "Cм. [np.argmax()](http://docs.scipy.org/doc/numpy/reference/generated/numpy.argmax.html)."
   ]
  },
  {
   "cell_type": "code",
   "execution_count": 119,
   "metadata": {},
   "outputs": [
    {
     "name": "stdout",
     "output_type": "stream",
     "text": [
      "(4, 2)\n"
     ]
    }
   ],
   "source": [
    "X = np.random.random((10, 10))\n",
    "print(np.unravel_index(np.argmax(X, axis = None), X.shape))"
   ]
  },
  {
   "cell_type": "markdown",
   "metadata": {},
   "source": [
    "**6.** Есть 10 точек ($X$) и ещё одна ($y$). Найти в $X$ ближайшую к $y$ точку."
   ]
  },
  {
   "cell_type": "code",
   "execution_count": 134,
   "metadata": {},
   "outputs": [
    {
     "data": {
      "text/plain": [
       "array([0.33283074, 0.21090116])"
      ]
     },
     "execution_count": 134,
     "metadata": {},
     "output_type": "execute_result"
    }
   ],
   "source": [
    "X = np.random.random((10, 2))\n",
    "y = np.random.random((1, 2))\n",
    "X_x = X[:, 0]\n",
    "X_y = X[:, 1]\n",
    "y_x = y[:, 0]\n",
    "y_y = y[:, 1]\n",
    "ans = np.sqrt((X_x - y_x) ** 2 + (X_y - y_y) ** 2)\n",
    "X[np.argmin(ans, axis = 0)]\n",
    "## your code"
   ]
  },
  {
   "cell_type": "markdown",
   "metadata": {},
   "source": [
    "**7.** Дана функция:\n",
    "\n",
    "$$\n",
    " \\begin{cases}\n",
    "    x^2 + 2x + 6, & x < 0  \\\\\n",
    "    x + 6, & 0 \\le x \\le 2 \\\\\n",
    "    x^2 + 4x - 4, & x \\ge 2\n",
    " \\end{cases}\n",
    "$$\n",
    "\n",
    "Постройте массив из её значений на  $-3 \\le x \\le 3$."
   ]
  },
  {
   "cell_type": "code",
   "execution_count": 47,
   "metadata": {},
   "outputs": [
    {
     "data": {
      "text/plain": [
       "array([ 9.        ,  8.76124885,  8.52984389,  8.30578512,  8.08907254,\n",
       "        7.87970615,  7.67768595,  7.48301194,  7.29568411,  7.11570248,\n",
       "        6.94306703,  6.77777778,  6.61983471,  6.46923783,  6.32598714,\n",
       "        6.19008264,  6.06152433,  5.94031221,  5.82644628,  5.71992654,\n",
       "        5.62075298,  5.52892562,  5.44444444,  5.36730946,  5.29752066,\n",
       "        5.23507805,  5.17998163,  5.1322314 ,  5.09182736,  5.05876951,\n",
       "        5.03305785,  5.01469238,  5.00367309,  5.        ,  5.00367309,\n",
       "        5.01469238,  5.03305785,  5.05876951,  5.09182736,  5.1322314 ,\n",
       "        5.17998163,  5.23507805,  5.29752066,  5.36730946,  5.44444444,\n",
       "        5.52892562,  5.62075298,  5.71992654,  5.82644628,  5.94031221,\n",
       "        6.03030303,  6.09090909,  6.15151515,  6.21212121,  6.27272727,\n",
       "        6.33333333,  6.39393939,  6.45454545,  6.51515152,  6.57575758,\n",
       "        6.63636364,  6.6969697 ,  6.75757576,  6.81818182,  6.87878788,\n",
       "        6.93939394,  7.        ,  7.06060606,  7.12121212,  7.18181818,\n",
       "        7.24242424,  7.3030303 ,  7.36363636,  7.42424242,  7.48484848,\n",
       "        7.54545455,  7.60606061,  7.66666667,  7.72727273,  7.78787879,\n",
       "        7.84848485,  7.90909091,  7.96969697,  8.24334252,  8.73553719,\n",
       "        9.23507805,  9.74196511, 10.25619835, 10.77777778, 11.3067034 ,\n",
       "       11.84297521, 12.3865932 , 12.93755739, 13.49586777, 14.06152433,\n",
       "       14.63452709, 15.21487603, 15.80257117, 16.39761249, 17.        ])"
      ]
     },
     "execution_count": 47,
     "metadata": {},
     "output_type": "execute_result"
    }
   ],
   "source": [
    "def func(x):\n",
    "    int_1 = (x < 0)\n",
    "    int_2 = ((x<2) * (x >= 0))\n",
    "    int_3 = (x >= 2)\n",
    "    x[int_1] = (x[int_1] ** 2 + 2 * x[int_1] + 6)\n",
    "    x[int_3] = (x[int_3] ** 2 + 4 * x[int_3] - 4)\n",
    "    x[int_2] = (x[int_2] + 6)\n",
    "    return x\n",
    "x = np.linspace(-3, 3, 100)\n",
    "func(x)"
   ]
  },
  {
   "cell_type": "markdown",
   "metadata": {},
   "source": [
    "**8.** Из каждого элемента матрицы вычесть среднее арифметическое от всех элементов в соответствующей строке (после чего среднее значение каждой строки должно равняться нулю).\n",
    "\n",
    "Cм. [np.mean()](http://docs.scipy.org/doc/numpy/reference/generated/numpy.mean.html)."
   ]
  },
  {
   "cell_type": "code",
   "execution_count": 158,
   "metadata": {},
   "outputs": [
    {
     "data": {
      "text/plain": [
       "array([-1.11022302e-16, -3.33066907e-17,  2.22044605e-17, -2.22044605e-17,\n",
       "        0.00000000e+00,  2.22044605e-17, -6.66133815e-17, -7.77156117e-17,\n",
       "        0.00000000e+00,  1.11022302e-17])"
      ]
     },
     "execution_count": 158,
     "metadata": {},
     "output_type": "execute_result"
    }
   ],
   "source": [
    "X = np.random.random((10, 10))\n",
    "a = [[1,1],[2,2]]\n",
    "\n",
    "np.mean((X.T - np.mean(X, axis = 1)).T, axis = 1)\n",
    "## your code"
   ]
  },
  {
   "cell_type": "markdown",
   "metadata": {},
   "source": [
    "**9.** Есть массив из 1000 чисел, полученных из генератора случайных чисел, имеющий нормальное распределение. Посчитайте выборочное среднее и выборочную дисперсию. "
   ]
  },
  {
   "cell_type": "code",
   "execution_count": 138,
   "metadata": {},
   "outputs": [
    {
     "name": "stdout",
     "output_type": "stream",
     "text": [
      "5.065082701638292 2.071560028368259\n"
     ]
    }
   ],
   "source": [
    "X = np.random.normal(loc=5, scale=2., size=1000)\n",
    "print(X.mean(), X.std())"
   ]
  },
  {
   "cell_type": "markdown",
   "metadata": {},
   "source": [
    "**10.** Создать матрицу:\n",
    "\n",
    "$$\n",
    "\\begin{pmatrix}\n",
    "0 & 1 & 2 & 3 & 4 \\\\\n",
    "1 & 2 & 3 & 4 & 0 \\\\\n",
    "2 & 3 & 4 & 0 & 1 \\\\\n",
    "3 & 4 & 0 & 1 & 2 \\\\\n",
    "4 & 0 & 1 & 2 & 3\n",
    "\\end{pmatrix}\n",
    "$$"
   ]
  },
  {
   "cell_type": "code",
   "execution_count": 132,
   "metadata": {},
   "outputs": [
    {
     "data": {
      "text/plain": [
       "array([[0, 1, 2, 3, 4],\n",
       "       [1, 2, 3, 4, 0],\n",
       "       [2, 3, 4, 0, 1],\n",
       "       [3, 4, 0, 1, 2],\n",
       "       [4, 0, 1, 2, 3]], dtype=int32)"
      ]
     },
     "execution_count": 132,
     "metadata": {},
     "output_type": "execute_result"
    }
   ],
   "source": [
    "(np.arange(0, 5*6, 1) % 5).reshape(5, 6)[:, :5]"
   ]
  },
  {
   "cell_type": "markdown",
   "metadata": {},
   "source": [
    "**11.** Есть следующий алгоритм семплинирования, на вход функции подается вектор из целых положительных чисел и число семплов."
   ]
  },
  {
   "cell_type": "code",
   "execution_count": 10,
   "metadata": {},
   "outputs": [
    {
     "name": "stdout",
     "output_type": "stream",
     "text": [
      "41.48901553867807\n",
      "21.433938001860305\n",
      "6.492696090076132\n",
      "74.83495800928252\n"
     ]
    },
    {
     "data": {
      "text/plain": [
       "[0, 0, 0, 4]"
      ]
     },
     "execution_count": 10,
     "metadata": {},
     "output_type": "execute_result"
    }
   ],
   "source": [
    "def sample(x, c):\n",
    "    assert len(x) > 0\n",
    "    \n",
    "    s = np.sum(x)\n",
    "    res = []\n",
    "    for _ in range(c):\n",
    "        val = s * np.random.random()\n",
    "        print(val)\n",
    "        cur, idx = 0, 0        \n",
    "        while cur + x[idx] <= val:\n",
    "            cur += x[idx]\n",
    "            idx += 1\n",
    "            \n",
    "        res.append(idx)\n",
    "    return res\n",
    "\n",
    "            \n",
    "sample([50, 3, 1, 7, 20], 4)\n"
   ]
  },
  {
   "cell_type": "markdown",
   "metadata": {},
   "source": [
    "Реализуйте данный алгоритм более оптимальным способом, без использования циклов."
   ]
  },
  {
   "cell_type": "code",
   "execution_count": 64,
   "metadata": {},
   "outputs": [
    {
     "name": "stdout",
     "output_type": "stream",
     "text": [
      "[50 53 54 61 81] [54.71676935 80.99361498 38.08989611 77.50512069]\n"
     ]
    },
    {
     "data": {
      "text/plain": [
       "array([3, 4, 0, 4])"
      ]
     },
     "execution_count": 64,
     "metadata": {},
     "output_type": "execute_result"
    }
   ],
   "source": [
    "arr, n = [50, 3, 1, 7, 20], 4\n",
    "@np.vectorize\n",
    "def sample(x):\n",
    "    return np.sum(arr < x)\n",
    "s = np.sum(arr)\n",
    "arr = np.cumsum(arr)\n",
    "x = s * np.random.random(n)\n",
    "print(arr, x)\n",
    "\n",
    "sample(x)"
   ]
  }
 ],
 "metadata": {
  "kernelspec": {
   "display_name": "Python 3",
   "language": "python",
   "name": "python3"
  },
  "language_info": {
   "codemirror_mode": {
    "name": "ipython",
    "version": 3
   },
   "file_extension": ".py",
   "mimetype": "text/x-python",
   "name": "python",
   "nbconvert_exporter": "python",
   "pygments_lexer": "ipython3",
   "version": "3.7.6"
  }
 },
 "nbformat": 4,
 "nbformat_minor": 4
}
